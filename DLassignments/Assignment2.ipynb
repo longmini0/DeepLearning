{
 "cells": [
  {
   "cell_type": "markdown",
   "metadata": {},
   "source": [
    "## Q1"
   ]
  },
  {
   "cell_type": "markdown",
   "metadata": {},
   "source": [
    "### a. The number of parameters"
   ]
  },
  {
   "cell_type": "markdown",
   "metadata": {},
   "source": [
    "layer1: (3 * 3 * 3 + 1) * 100 = 2,800\n",
    "\n",
    "layer2: (3 * 3 * 100 + 1) * 200 = 180,200\n",
    "\n",
    "layer3: (3 * 3 * 200 + 1) * 400 = 720,400\n",
    "\n",
    "Total number of parameters = layer1 + layer2 + layer3 = 903,400"
   ]
  },
  {
   "cell_type": "markdown",
   "metadata": {},
   "source": [
    "### b. The size of activation maps"
   ]
  },
  {
   "cell_type": "markdown",
   "metadata": {},
   "source": [
    "layer1: ((200 - 3) + 1, (300 - 3) +1, 100)) = (198, 298, 100)\n",
    "    \n",
    "layer2: ((198 - 3) + 1, (298 - 3) +1, 200)) = (196, 296, 200)\n",
    "    \n",
    "layer3: ((196 - 3) + 1, (296 - 3) +1, 400)) = (194, 294, 400)"
   ]
  },
  {
   "cell_type": "markdown",
   "metadata": {},
   "source": [
    "### C. Zero padding P"
   ]
  },
  {
   "attachments": {
    "image.png": {
     "image/png": "[encoded data removed]"
    }
   },
   "cell_type": "markdown",
   "metadata": {},
   "source": [
    "When stride = 1,\n",
    "![image.png](attachment:image.png)\n",
    "and F = 3,"
   ]
  },
  {
   "attachments": {
    "image.png": {
     "image/png": "[encoded data removed]"
    }
   },
   "cell_type": "markdown",
   "metadata": {},
   "source": [
    "Zero padding for layer2\n",
    "![image.png](attachment:image.png)\n",
    "\n",
    "Zero padding for layer3\n",
    "![image.png](attachment:image.png)\n"
   ]
  },
  {
   "cell_type": "markdown",
   "metadata": {},
   "source": [
    "  "
   ]
  },
  {
   "cell_type": "markdown",
   "metadata": {},
   "source": [
    "   "
   ]
  },
  {
   "cell_type": "markdown",
   "metadata": {},
   "source": [
    "## Q2"
   ]
  },
  {
   "cell_type": "markdown",
   "metadata": {},
   "source": [
    "### a. Verifying the number of parameters is reduced"
   ]
  },
  {
   "attachments": {
    "image.png": {
     "image/png": "[encoded data removed]"
    }
   },
   "cell_type": "markdown",
   "metadata": {},
   "source": [
    "The number of paramaters\n",
    "![image.png](attachment:image.png)"
   ]
  },
  {
   "attachments": {
    "image.png": {
     "image/png": "[encoded data removed]"
    }
   },
   "cell_type": "markdown",
   "metadata": {},
   "source": [
    " The total number of parameters\n",
    " ![image.png](attachment:image.png)"
   ]
  },
  {
   "cell_type": "markdown",
   "metadata": {},
   "source": [
    "### b. Using smaller filters"
   ]
  },
  {
   "attachments": {
    "image.png": {
     "image/png": "[encoded data removed]"
    }
   },
   "cell_type": "markdown",
   "metadata": {},
   "source": [
    "1 - The design using 1x1 filter uses a smaller number of parameters,\n",
    "\n",
    "![image.png](attachment:image.png)\n",
    "\n",
    "compares to the design using 3x3 filter’s number of parameters,"
   ]
  },
  {
   "attachments": {
    "image.png": {
     "image/png": "[encoded data removed]"
    }
   },
   "cell_type": "markdown",
   "metadata": {},
   "source": [
    "![image.png](attachment:image.png)"
   ]
  },
  {
   "attachments": {
    "image.png": {
     "image/png": "[encoded data removed]"
    }
   },
   "cell_type": "markdown",
   "metadata": {},
   "source": [
    "2 - The design using 1x1 filter results in a smaller number of computations.\n",
    "\n",
    "Assume the size of the output activation layer is (M, N)\n",
    "\n",
    "Design with 3x3 filter:\n",
    "![image.png](attachment:image.png)"
   ]
  },
  {
   "attachments": {
    "image.png": {
     "image/png": "[encoded data removed]"
    }
   },
   "cell_type": "markdown",
   "metadata": {},
   "source": [
    "Design with 1x1 filter:\n",
    "\n",
    "![image.png](attachment:image.png)"
   ]
  },
  {
   "attachments": {
    "image.png": {
     "image/png": "[encoded data removed]"
    }
   },
   "cell_type": "markdown",
   "metadata": {},
   "source": [
    "The number of computations for smaller filter are\n",
    "![image.png](attachment:image.png)"
   ]
  },
  {
   "attachments": {
    "image.png": {
     "image/png": "[encoded data removed]"
    }
   },
   "cell_type": "markdown",
   "metadata": {},
   "source": [
    "The number of computations for larger filter are\n",
    "![image.png](attachment:image.png)"
   ]
  },
  {
   "cell_type": "markdown",
   "metadata": {},
   "source": [
    " "
   ]
  },
  {
   "cell_type": "markdown",
   "metadata": {},
   "source": [
    "3 - Design with 1x1 filter incorporates more non-linearity, it has 4 ReLU layers vs the 2 ReLU layers in the 3x3 case, which increases the system’s modeling capacity."
   ]
  },
  {
   "cell_type": "markdown",
   "metadata": {},
   "source": [
    "##### Thus, the smaller filter design gives us better performance and make the model runs faster."
   ]
  },
  {
   "cell_type": "markdown",
   "metadata": {},
   "source": [
    "  "
   ]
  },
  {
   "cell_type": "markdown",
   "metadata": {},
   "source": [
    "## Q3"
   ]
  },
  {
   "cell_type": "markdown",
   "metadata": {},
   "source": [
    "### a. ConvNet"
   ]
  },
  {
   "cell_type": "code",
   "execution_count": 1,
   "metadata": {},
   "outputs": [],
   "source": [
    "import os\n",
    "\n",
    "data_dir = os.path.expanduser('~/Downloads/flower_photos')\n",
    "\n",
    "print(data_dir)"
   ]
  },
  {
   "cell_type": "code",
   "execution_count": 2,
   "metadata": {},
   "outputs": [
    {
     "name": "stdout",
     "output_type": "stream",
     "text": [
      "Found 2939 images belonging to 5 classes.\n",
      "Found 731 images belonging to 5 classes.\n"
     ]
    }
   ],
   "source": [
    "batch_size = 128\n",
    "\n",
    "from tensorflow.keras.preprocessing.image import ImageDataGenerator\n",
    "\n",
    "# All images will be rescaled by 1./255\n",
    "train_datagen = ImageDataGenerator(\n",
    "    rescale=1/255,\n",
    "    validation_split=0.2) # set validation split)\n",
    "\n",
    "# Flow training images in batches of 128 using train_datagen generator\n",
    "train_generator = train_datagen.flow_from_directory(\n",
    "        data_dir,  # This is the source directory for training images\n",
    "        target_size=(192, 192),  # All images will be resized to 200 x 200\n",
    "        batch_size=batch_size,\n",
    "        # Specify the classes explicitly\n",
    "        classes = ['daisy','dandelion','roses','sunflowers','tulips'],\n",
    "        # Since we use categorical_crossentropy loss, we need categorical labels\n",
    "        class_mode='categorical',\n",
    "        subset='training')\n",
    "\n",
    "test_generator = train_datagen.flow_from_directory(\n",
    "        data_dir,  # This is the source directory for training images\n",
    "        target_size=(192, 192),  # All images will be resized to 200 x 200\n",
    "        batch_size=batch_size,\n",
    "        # Specify the classes explicitly\n",
    "        classes = ['daisy','dandelion','roses','sunflowers','tulips'],\n",
    "        # Since we use categorical_crossentropy loss, we need categorical labels\n",
    "        class_mode='categorical',\n",
    "        subset='validation')"
   ]
  },
  {
   "cell_type": "markdown",
   "metadata": {},
   "source": [
    "Sources: https://www.codegrepper.com/code-examples/whatever/how+to+split+image+dataset+into+training+and+test+set+keras <br> https://stackoverflow.com/questions/42443936/keras-split-train-test-set-when-using-imagedatagenerator"
   ]
  },
  {
   "cell_type": "code",
   "execution_count": 3,
   "metadata": {},
   "outputs": [],
   "source": [
    "import keras\n",
    "keras.__version__\n",
    "from keras import models\n",
    "from keras import layers\n",
    "\n",
    "model = models.Sequential()\n",
    "model.add(layers.Conv2D(32, (3, 3), activation='relu', input_shape=(192, 192, 3)))\n",
    "model.add(layers.Conv2D(32, (3, 3), activation='relu'))\n",
    "model.add(layers.MaxPooling2D((2, 2)))\n",
    "model.add(layers.Conv2D(64, (3, 3), activation='relu'))\n",
    "model.add(layers.Conv2D(64, (3, 3), activation='relu'))\n",
    "model.add(layers.MaxPooling2D((2, 2)))\n",
    "model.add(layers.Conv2D(64, (3, 3), activation='relu'))\n",
    "\n",
    "model.add(layers.Flatten())\n",
    "model.add(layers.Dense(1024, activation='relu'))\n",
    "model.add(layers.Dense(5, activation='softmax'))"
   ]
  },
  {
   "cell_type": "code",
   "execution_count": 4,
   "metadata": {},
   "outputs": [
    {
     "name": "stdout",
     "output_type": "stream",
     "text": [
      "Model: \"sequential\"\n",
      "_________________________________________________________________\n",
      "Layer (type)                 Output Shape              Param #   \n",
      "=================================================================\n",
      "conv2d (Conv2D)              (None, 190, 190, 32)      896       \n",
      "_________________________________________________________________\n",
      "conv2d_1 (Conv2D)            (None, 188, 188, 32)      9248      \n",
      "_________________________________________________________________\n",
      "max_pooling2d (MaxPooling2D) (None, 94, 94, 32)        0         \n",
      "_________________________________________________________________\n",
      "conv2d_2 (Conv2D)            (None, 92, 92, 64)        18496     \n",
      "_________________________________________________________________\n",
      "conv2d_3 (Conv2D)            (None, 90, 90, 64)        36928     \n",
      "_________________________________________________________________\n",
      "max_pooling2d_1 (MaxPooling2 (None, 45, 45, 64)        0         \n",
      "_________________________________________________________________\n",
      "conv2d_4 (Conv2D)            (None, 43, 43, 64)        36928     \n",
      "_________________________________________________________________\n",
      "flatten (Flatten)            (None, 118336)            0         \n",
      "_________________________________________________________________\n",
      "dense (Dense)                (None, 1024)              121177088 \n",
      "_________________________________________________________________\n",
      "dense_1 (Dense)              (None, 5)                 5125      \n",
      "=================================================================\n",
      "Total params: 121,284,709\n",
      "Trainable params: 121,284,709\n",
      "Non-trainable params: 0\n",
      "_________________________________________________________________\n"
     ]
    }
   ],
   "source": [
    "model.summary()"
   ]
  },
  {
   "cell_type": "code",
   "execution_count": 5,
   "metadata": {},
   "outputs": [],
   "source": [
    "model.compile(optimizer='rmsprop',\n",
    "              loss='categorical_crossentropy',\n",
    "              metrics=['accuracy'])"
   ]
  },
  {
   "cell_type": "code",
   "execution_count": 6,
   "metadata": {},
   "outputs": [
    {
     "name": "stdout",
     "output_type": "stream",
     "text": [
      "WARNING:tensorflow:From <ipython-input-6-aba9b3112317>:6: Model.fit_generator (from tensorflow.python.keras.engine.training) is deprecated and will be removed in a future version.\n",
      "Instructions for updating:\n",
      "Please use Model.fit, which supports generators.\n",
      "Epoch 1/10\n",
      "22/22 [==============================] - 163s 7s/step - loss: 4.6309 - accuracy: 0.2255 - val_loss: 1.5835 - val_accuracy: 0.2438\n",
      "Epoch 2/10\n",
      "22/22 [==============================] - 182s 8s/step - loss: 1.7268 - accuracy: 0.2988 - val_loss: 2.5873 - val_accuracy: 0.2656\n",
      "Epoch 3/10\n",
      "22/22 [==============================] - 186s 8s/step - loss: 1.8028 - accuracy: 0.2906 - val_loss: 1.4012 - val_accuracy: 0.4219\n",
      "Epoch 4/10\n",
      "22/22 [==============================] - 203s 9s/step - loss: 1.3556 - accuracy: 0.4397 - val_loss: 1.2270 - val_accuracy: 0.4984\n",
      "Epoch 5/10\n",
      "22/22 [==============================] - 205s 9s/step - loss: 1.2958 - accuracy: 0.4906 - val_loss: 1.3261 - val_accuracy: 0.4812\n",
      "Epoch 6/10\n",
      "22/22 [==============================] - 203s 9s/step - loss: 1.0824 - accuracy: 0.5660 - val_loss: 1.3513 - val_accuracy: 0.4984\n",
      "Epoch 7/10\n",
      "22/22 [==============================] - 206s 9s/step - loss: 1.0593 - accuracy: 0.6019 - val_loss: 1.0910 - val_accuracy: 0.5984\n",
      "Epoch 8/10\n",
      "22/22 [==============================] - 2840s 129s/step - loss: 0.8212 - accuracy: 0.6962 - val_loss: 1.1244 - val_accuracy: 0.5625\n",
      "Epoch 9/10\n",
      "22/22 [==============================] - 2237s 102s/step - loss: 0.5905 - accuracy: 0.7862 - val_loss: 1.5199 - val_accuracy: 0.5297\n",
      "Epoch 10/10\n",
      "22/22 [==============================] - 168s 8s/step - loss: 0.4344 - accuracy: 0.8453 - val_loss: 1.5599 - val_accuracy: 0.5312\n"
     ]
    }
   ],
   "source": [
    "history = model.fit_generator(\n",
    "    train_generator,\n",
    "    steps_per_epoch = train_generator.samples // batch_size,\n",
    "    validation_data = test_generator, \n",
    "    validation_steps = test_generator.samples // batch_size,\n",
    "    epochs = 10)"
   ]
  },
  {
   "cell_type": "markdown",
   "metadata": {},
   "source": [
    " "
   ]
  },
  {
   "cell_type": "markdown",
   "metadata": {},
   "source": [
    "  "
   ]
  },
  {
   "cell_type": "markdown",
   "metadata": {},
   "source": [
    "### b. The MobileNet model"
   ]
  },
  {
   "cell_type": "code",
   "execution_count": 7,
   "metadata": {},
   "outputs": [],
   "source": [
    "from keras.applications import MobileNetV2\n",
    "\n",
    "conv_base = MobileNetV2(\n",
    "    input_shape=(192,192,3), #must be \"squares\"\n",
    "    include_top=False,\n",
    "    weights=\"imagenet\"\n",
    ")"
   ]
  },
  {
   "cell_type": "markdown",
   "metadata": {},
   "source": [
    "Source: https://keras.io/api/applications/mobilenet/#mobilenetv2-function"
   ]
  },
  {
   "cell_type": "code",
   "execution_count": 8,
   "metadata": {},
   "outputs": [],
   "source": [
    "import numpy as np"
   ]
  },
  {
   "cell_type": "code",
   "execution_count": 9,
   "metadata": {},
   "outputs": [],
   "source": [
    "def extract_features(generator, sample_count): #directory not used generator imported directly instead\n",
    "    features = np.zeros(shape=(sample_count,6,6,1280))\n",
    "    labels = np.zeros(shape=(sample_count,5))\n",
    "    i=0\n",
    "    for inputs_batch, labels_batch in generator:\n",
    "        features_batch = conv_base.predict(inputs_batch)\n",
    "        features[i * batch_size : (i + 1) * batch_size] = features_batch\n",
    "        labels[i * batch_size : (i + 1) * batch_size] = labels_batch\n",
    "        i += 1\n",
    "        if i * batch_size >= sample_count:\n",
    "            break\n",
    "    return features, labels"
   ]
  },
  {
   "cell_type": "code",
   "execution_count": 10,
   "metadata": {},
   "outputs": [],
   "source": [
    "train_features,train_labels = extract_features(train_generator,2816) #closest multiplier of 128(batch size)\n",
    "test_features,test_labels = extract_features(test_generator,640) #closest multiplier of 128(batch size)"
   ]
  },
  {
   "cell_type": "code",
   "execution_count": 11,
   "metadata": {},
   "outputs": [],
   "source": [
    "train_features = np.reshape(train_features, (2816, 6*6*1280))\n",
    "test_features = np.reshape(test_features, (640, 6*6*1280))"
   ]
  },
  {
   "cell_type": "code",
   "execution_count": 17,
   "metadata": {},
   "outputs": [],
   "source": [
    "modelt = models.Sequential()\n",
    "modelt.add(conv_base)\n",
    "modelt.add(layers.Flatten())\n",
    "modelt.add(layers.Dense(4096,activation='relu',input_dim=6*6*1280))\n",
    "modelt.add(layers.Dense(4096,activation='relu'))\n",
    "modelt.add(layers.Dense(5,activation='softmax'))"
   ]
  },
  {
   "cell_type": "code",
   "execution_count": 18,
   "metadata": {},
   "outputs": [],
   "source": [
    "modelt.compile(optimizer='rmsprop',\n",
    "              loss='categorical_crossentropy',\n",
    "              metrics=['accuracy'])"
   ]
  },
  {
   "cell_type": "code",
   "execution_count": 19,
   "metadata": {},
   "outputs": [
    {
     "name": "stdout",
     "output_type": "stream",
     "text": [
      "Model: \"sequential_3\"\n",
      "_________________________________________________________________\n",
      "Layer (type)                 Output Shape              Param #   \n",
      "=================================================================\n",
      "mobilenetv2_1.00_192 (Functi (None, 6, 6, 1280)        2257984   \n",
      "_________________________________________________________________\n",
      "flatten_2 (Flatten)          (None, 46080)             0         \n",
      "_________________________________________________________________\n",
      "dense_4 (Dense)              (None, 4096)              188747776 \n",
      "_________________________________________________________________\n",
      "dense_5 (Dense)              (None, 4096)              16781312  \n",
      "_________________________________________________________________\n",
      "dense_6 (Dense)              (None, 5)                 20485     \n",
      "=================================================================\n",
      "Total params: 207,807,557\n",
      "Trainable params: 207,773,445\n",
      "Non-trainable params: 34,112\n",
      "_________________________________________________________________\n"
     ]
    }
   ],
   "source": [
    "modelt.summary()"
   ]
  },
  {
   "cell_type": "code",
   "execution_count": 20,
   "metadata": {},
   "outputs": [
    {
     "name": "stdout",
     "output_type": "stream",
     "text": [
      "Epoch 1/10\n",
      "22/22 [==============================] - 294s 13s/step - loss: 88.6822 - accuracy: 0.4776 - val_loss: 77.3206 - val_accuracy: 0.2547\n",
      "Epoch 2/10\n",
      "22/22 [==============================] - 362s 16s/step - loss: 0.6142 - accuracy: 0.7912 - val_loss: 10.9514 - val_accuracy: 0.3266\n",
      "Epoch 3/10\n",
      "22/22 [==============================] - 311s 14s/step - loss: 0.9980 - accuracy: 0.8125 - val_loss: 7.3721 - val_accuracy: 0.5016\n",
      "Epoch 4/10\n",
      "22/22 [==============================] - 319s 15s/step - loss: 0.3902 - accuracy: 0.9011 - val_loss: 18.7300 - val_accuracy: 0.4078\n",
      "Epoch 5/10\n",
      "22/22 [==============================] - 322s 15s/step - loss: 0.4460 - accuracy: 0.8801 - val_loss: 5.1217 - val_accuracy: 0.5344\n",
      "Epoch 6/10\n",
      "22/22 [==============================] - 315s 14s/step - loss: 0.5063 - accuracy: 0.8783 - val_loss: 2.5334 - val_accuracy: 0.6469\n",
      "Epoch 7/10\n",
      "22/22 [==============================] - 366s 17s/step - loss: 0.6827 - accuracy: 0.8453 - val_loss: 4.3961 - val_accuracy: 0.6469\n",
      "Epoch 8/10\n",
      "22/22 [==============================] - 417s 19s/step - loss: 0.4409 - accuracy: 0.8911 - val_loss: 9.1788 - val_accuracy: 0.5266\n",
      "Epoch 9/10\n",
      "22/22 [==============================] - 418s 19s/step - loss: 0.5574 - accuracy: 0.8805 - val_loss: 10.2781 - val_accuracy: 0.5500\n",
      "Epoch 10/10\n",
      "22/22 [==============================] - 317s 14s/step - loss: 0.4858 - accuracy: 0.8936 - val_loss: 16.8006 - val_accuracy: 0.4203\n"
     ]
    }
   ],
   "source": [
    "historyt = modelt.fit_generator(\n",
    "    train_generator,\n",
    "    steps_per_epoch = train_generator.samples // batch_size,\n",
    "    validation_data = test_generator, \n",
    "    validation_steps = test_generator.samples // batch_size,\n",
    "    epochs = 10)"
   ]
  },
  {
   "cell_type": "markdown",
   "metadata": {},
   "source": [
    "## Conclusion of Q3:"
   ]
  },
  {
   "cell_type": "markdown",
   "metadata": {},
   "source": [
    "The transfer learning network has gained accuracy faster and and reached a higher convergency at Epoch 7. While both networks might have reached higher accuracies with longer training, as they might get over a saddle in gradient and lower their accuracies like the MobileNet did between Epochs 4 and 5. And regardless of that it seems clear that the conclusions would be unlikely to change, the larger and well trained MobileNet network would reach a much higher accuracy and do so quicker, as it wouldn't have to train the feature detection from scratch and had a much larger model capacity."
   ]
  },
  {
   "cell_type": "code",
   "execution_count": null,
   "metadata": {},
   "outputs": [],
   "source": []
  }
 ],
 "metadata": {
  "kernelspec": {
   "display_name": "Python 3",
   "language": "python",
   "name": "python3"
  },
  "language_info": {
   "codemirror_mode": {
    "name": "ipython",
    "version": 3
   },
   "file_extension": ".py",
   "mimetype": "text/x-python",
   "name": "python",
   "nbconvert_exporter": "python",
   "pygments_lexer": "ipython3",
   "version": "3.8.3"
  }
 },
 "nbformat": 4,
 "nbformat_minor": 4
}
